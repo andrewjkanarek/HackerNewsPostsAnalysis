{
 "cells": [
  {
   "cell_type": "markdown",
   "metadata": {},
   "source": [
    "# Hacker News Comments Analysis\n",
    "\n",
    "In this project, I will take the posts from the Hacker News website (https://news.ycombinator.com/) and analyze which types of posts receive the most comments, and how timing affects the amount of comments received. There are 2 types of posts:\n",
    "\n",
    "1) Ask HN - Users ask a question to the Hacker News community.\n",
    "2) Show HN - Users share projects or information they may find useful to the Hacker News community.\n",
    "\n",
    "This is a guided data science project from the DataQuest \"Data Science in Python\" course."
   ]
  },
  {
   "cell_type": "code",
   "execution_count": 9,
   "metadata": {},
   "outputs": [
    {
     "name": "stdout",
     "output_type": "stream",
     "text": [
      "14.038417431192661\n",
      "10.31669535283993\n"
     ]
    }
   ],
   "source": [
    "from csv import reader\n",
    "import datetime as dt\n",
    "\n",
    "def str_to_int(str_in):\n",
    "    if (str_in.isdigit()):\n",
    "        return int(str_in)\n",
    "    return 0\n",
    "\n",
    "# open and raed the file\n",
    "opened_file = open('hacker_news.csv')\n",
    "read_file = reader(opened_file)\n",
    "\n",
    "#convert file to list of lists\n",
    "hn = list(read_file)\n",
    "\n",
    "# remove the first row of the data, which\n",
    "# contains the column names\n",
    "headers = hn[:1]\n",
    "hn = hn[1:]\n",
    "\n",
    "ask_posts = []\n",
    "show_posts = []\n",
    "other_posts = []\n",
    "\n",
    "total_ask_comments = 0\n",
    "total_show_comments = 0\n",
    "\n",
    "for row in hn:\n",
    "    title = row[1] \n",
    "    num_comments = str_to_int(row[4])\n",
    "    \n",
    "    # determine what type of post this is and record the total number of comments for each \n",
    "    if title.lower().startswith('ask hn'):\n",
    "        ask_posts.append(row)\n",
    "        total_ask_comments += num_comments\n",
    "    elif title.lower().startswith('show hn'):\n",
    "        show_posts.append(row)\n",
    "        total_show_comments += num_comments\n",
    "    else:\n",
    "        other_posts.append(row)\n",
    "        \n",
    "avg_ask_comments = float(total_ask_comments) / len(ask_posts)\n",
    "avg_show_comments = float(total_show_comments) / len(show_posts)\n",
    "        \n",
    "print(avg_ask_comments)\n",
    "print(avg_show_comments)\n",
    "\n",
    "\n",
    "\n",
    "\n"
   ]
  },
  {
   "cell_type": "markdown",
   "metadata": {},
   "source": [
    "According to the total number of posts for each post type (ask/show), and the number of comments for each, the avergage number of comments for the \"ask\" post types seems to be higher. The following are the average comments for each post type:\n",
    "\n",
    "Ask HN:  14.038417431192661\n",
    "Show HN: 10.31669535283993\n",
    "\n",
    "Note: Copying the whole row from \"hn\" to another list (ask_posts/show_posts/other_posts) during each iteration is not a necessary use of memory, but is done for the sake of the excercise and to split up the first section with the next.\n",
    "\n",
    "Next, I will determine if ask posts receive more comments when posted during a certain part of the day."
   ]
  },
  {
   "cell_type": "code",
   "execution_count": 38,
   "metadata": {},
   "outputs": [
    {
     "name": "stdout",
     "output_type": "stream",
     "text": [
      "Top 5 Hours for Ask Posts Comments\n",
      "15:00: 38.594828 average comments per post\n",
      "02:00: 23.810345 average comments per post\n",
      "20:00: 21.525000 average comments per post\n",
      "16:00: 16.796296 average comments per post\n",
      "21:00: 16.009174 average comments per post\n"
     ]
    }
   ],
   "source": [
    "\n",
    "counts_by_hour = {}\n",
    "comments_by_hour = {}\n",
    "\n",
    "for row in ask_posts:\n",
    "    created_at = dt.datetime.strptime(row[6], '%m/%d/%Y %H:%M')\n",
    "    hour = created_at.strftime('%H')\n",
    "    num_comments = str_to_int(row[4])\n",
    "    \n",
    "    if hour not in counts_by_hour:\n",
    "        counts_by_hour[hour] = 1\n",
    "        comments_by_hour[hour] = num_comments\n",
    "    else:\n",
    "        counts_by_hour[hour] += 1\n",
    "        comments_by_hour[hour] += num_comments\n",
    "        \n",
    "\n",
    "avg_by_hour = []\n",
    "\n",
    "# calculate the average number of comments for each hour of the day\n",
    "for key in counts_by_hour:\n",
    "    avg = float(comments_by_hour[key]) / counts_by_hour[key]\n",
    "    avg_by_hour.append([avg, key])\n",
    "    \n",
    "# sort list from highest avergage comments per post\n",
    "avg_by_hour = sorted(avg_by_hour, reverse=True)\n",
    "\n",
    "print(\"Top 5 Hours for Ask Posts Comments\")\n",
    "template = \"{hour}:00: {avg:2f} average comments per post\"\n",
    "for l in avg_by_hour[:5]:\n",
    "    print(template.format(hour=l[1], avg=l[0]))\n",
    "\n",
    "\n",
    "    \n",
    "    \n",
    "    "
   ]
  },
  {
   "cell_type": "code",
   "execution_count": null,
   "metadata": {},
   "outputs": [],
   "source": []
  }
 ],
 "metadata": {
  "kernelspec": {
   "display_name": "Python 3",
   "language": "python",
   "name": "python3"
  },
  "language_info": {
   "codemirror_mode": {
    "name": "ipython",
    "version": 3
   },
   "file_extension": ".py",
   "mimetype": "text/x-python",
   "name": "python",
   "nbconvert_exporter": "python",
   "pygments_lexer": "ipython3",
   "version": "3.7.4"
  }
 },
 "nbformat": 4,
 "nbformat_minor": 2
}
